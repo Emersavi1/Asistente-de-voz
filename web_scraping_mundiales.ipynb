{
  "nbformat": 4,
  "nbformat_minor": 0,
  "metadata": {
    "colab": {
      "provenance": [],
      "authorship_tag": "ABX9TyPn/mYxQjWmxby+qw98Kebs",
      "include_colab_link": true
    },
    "kernelspec": {
      "name": "python3",
      "display_name": "Python 3"
    },
    "language_info": {
      "name": "python"
    }
  },
  "cells": [
    {
      "cell_type": "markdown",
      "metadata": {
        "id": "view-in-github",
        "colab_type": "text"
      },
      "source": [
        "<a href=\"https://colab.research.google.com/github/Emersavi1/Asistente-de-voz/blob/master/web_scraping_mundiales.ipynb\" target=\"_parent\"><img src=\"https://colab.research.google.com/assets/colab-badge.svg\" alt=\"Open In Colab\"/></a>"
      ]
    },
    {
      "cell_type": "code",
      "execution_count": 13,
      "metadata": {
        "id": "PhjeCUpA4lt2"
      },
      "outputs": [],
      "source": [
        "from bs4 import BeautifulSoup\n",
        "import requests\n",
        "import pandas as pd\n",
        "\n"
      ]
    },
    {
      "cell_type": "code",
      "source": [
        "years = [1930, 1934, 1938, 1950, 1958, 1962, 1966, 1970, 1974, 1978, 1982, 1986, 1990, 1994, 1998, 2002, 2006, 2010, 2014, 2018]"
      ],
      "metadata": {
        "id": "mSLzQLpZ5FZm"
      },
      "execution_count": null,
      "outputs": []
    },
    {
      "cell_type": "code",
      "source": [
        "def get_matches(year):\n",
        "    web = f'https://en.wikipedia.org/wiki/{year}_FIFA_World_Cup'\n",
        "    response = requests.get(web)\n",
        "    content = response.text\n",
        "    soup = BeautifulSoup(content, 'lxml')\n",
        "\n",
        "    matches = soup.find_all('div', class_='footballbox')\n",
        "\n",
        "    home = []\n",
        "    score = []\n",
        "    away = []\n",
        "\n",
        "    for match in matches:\n",
        "        home.append(match.find('th', class_='fhome').get_text())\n",
        "        score.append(match.find('th', class_='fscore').get_text())\n",
        "        away.append(match.find('th', class_='faway').get_text())\n",
        "\n",
        "    dict_football ={'home': home, 'score': score, 'away': away}\n",
        "    df_football = pd.DataFrame(dict_football)\n",
        "    df_football['year']= year\n",
        "    return df_football\n",
        "\n",
        "print(get_matches(2018))\n",
        "\n"
      ],
      "metadata": {
        "colab": {
          "base_uri": "https://localhost:8080/"
        },
        "id": "fS7XmHmU5tFk",
        "outputId": "12b8d889-2b6e-4d50-851f-b6be3f20e4a9"
      },
      "execution_count": 38,
      "outputs": [
        {
          "output_type": "stream",
          "name": "stdout",
          "text": [
            "        home         score           away  year\n",
            "0    Russia            5–0   Saudi Arabia  2018\n",
            "1     Egypt            0–1        Uruguay  2018\n",
            "2    Russia            3–1          Egypt  2018\n",
            "3   Uruguay            1–0   Saudi Arabia  2018\n",
            "4   Uruguay            3–0         Russia  2018\n",
            "..       ...           ...            ...   ...\n",
            "59   Russia   2–2 (a.e.t.)        Croatia  2018\n",
            "60   France            1–0        Belgium  2018\n",
            "61  Croatia   2–1 (a.e.t.)        England  2018\n",
            "62  Belgium            2–0        England  2018\n",
            "63   France            4–2        Croatia  2018\n",
            "\n",
            "[64 rows x 4 columns]\n"
          ]
        }
      ]
    },
    {
      "cell_type": "code",
      "source": [],
      "metadata": {
        "id": "O0ZNWpOq4grE"
      },
      "execution_count": null,
      "outputs": []
    }
  ]
}